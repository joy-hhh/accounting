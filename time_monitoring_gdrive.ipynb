{
  "nbformat": 4,
  "nbformat_minor": 0,
  "metadata": {
    "colab": {
      "provenance": [],
      "collapsed_sections": [],
      "authorship_tag": "ABX9TyMFTeXCoLTGE+HQd9dFtjOG",
      "include_colab_link": true
    },
    "kernelspec": {
      "name": "python3",
      "display_name": "Python 3"
    },
    "language_info": {
      "name": "python"
    }
  },
  "cells": [
    {
      "cell_type": "markdown",
      "metadata": {
        "id": "view-in-github",
        "colab_type": "text"
      },
      "source": [
        "<a href=\"https://colab.research.google.com/github/joy-hhh/accounting/blob/main/time_monitoring_gdrive.ipynb\" target=\"_parent\"><img src=\"https://colab.research.google.com/assets/colab-badge.svg\" alt=\"Open In Colab\"/></a>"
      ]
    },
    {
      "cell_type": "code",
      "source": [
        "from google.colab import drive\n",
        "drive.mount(\"/content/gdrive\")"
      ],
      "metadata": {
        "colab": {
          "base_uri": "https://localhost:8080/"
        },
        "id": "vI8mHgQFG5w6",
        "outputId": "48aa5a2c-8289-4798-92c0-08a8e592ec3b"
      },
      "execution_count": 113,
      "outputs": [
        {
          "output_type": "stream",
          "name": "stdout",
          "text": [
            "Drive already mounted at /content/gdrive; to attempt to forcibly remount, call drive.mount(\"/content/gdrive\", force_remount=True).\n"
          ]
        }
      ]
    },
    {
      "cell_type": "code",
      "source": [
        "!ls gdrive/MyDrive/QC/Time_monitoring"
      ],
      "metadata": {
        "colab": {
          "base_uri": "https://localhost:8080/"
        },
        "id": "0efnbr-aHH6B",
        "outputId": "530cec66-4411-4dba-daf4-99c75b0a3d74"
      },
      "execution_count": 114,
      "outputs": [
        {
          "output_type": "stream",
          "name": "stdout",
          "text": [
            "20220627_20220930_monitoring.xlsx  score_approve.xlsx\n",
            "2022_3Q\t\t\t\t   time_monitoring_gdrive.ipynb\n",
            "excess21_result.xlsx\t\t   time_monitoring.ipynb\n",
            "excess21.xlsx\n"
          ]
        }
      ]
    },
    {
      "cell_type": "markdown",
      "source": [
        "파일 읽기  \n",
        "시간 column 속성 부여"
      ],
      "metadata": {
        "id": "dbi80Wd52EXp"
      }
    },
    {
      "cell_type": "code",
      "source": [
        "import pandas as pd\n",
        "\n",
        "file_name = \"20220627_20220930_monitoring.xlsx\"\n",
        "\n",
        "### 2022.6.27~2022.9.30\n",
        "df = pd.read_excel(\"gdrive/MyDrive/QC/Time_monitoring/\"+file_name)\n",
        "df[\"투입일자\"] = pd.to_datetime(df[\"투입일자\"])\n",
        "\n",
        "df[\"입력일자/시/분/초\"] = df[\"입력일자/시/분/초\"].apply(str)\n",
        "df[\"입력일자/시/분/초\"] = df[\"입력일자/시/분/초\"].str[:8]\n",
        "df[\"입력일자/시/분/초\"] = pd.to_datetime(df[\"입력일자/시/분/초\"])\n",
        "\n",
        "# df.dtypes\n",
        "df[\"input\"] = df[\"입력일자/시/분/초\"] - df[\"투입일자\"]"
      ],
      "metadata": {
        "id": "R7xmxbjn17WN"
      },
      "execution_count": 115,
      "outputs": []
    },
    {
      "cell_type": "markdown",
      "source": [
        "입력지연자 : 30일 초과자, 15일 초과자  \n",
        "30일(1건당 2점), 15일(1건당 1점)\n",
        "20점 초과 벌점 10점, 10점 초과 20점 이하 벌점 5점"
      ],
      "metadata": {
        "id": "SRM8nlOX3Ys4"
      }
    },
    {
      "cell_type": "code",
      "source": [
        "df_input = df[df.구분 == \"입력\"]\n",
        "excess30 = df_input[df_input[\"input\"] > \"30 days\"]\n",
        "excess30.to_excel(\"gdrive/MyDrive/QC/Time_monitoring/excess30.xlsx\")\n",
        "\n",
        "excess15 = df_input[(df_input[\"input\"] <= \"30 days\") & (df_input[\"input\"] > \"15 days\")]\n",
        "excess15.to_excel(\"gdrive/MyDrive/QC/Time_monitoring/excess15.xlsx\")\n",
        "\n",
        "excess30_group = excess30.groupby(['이름'])\n",
        "excess30_result = pd.DataFrame( {'count' : excess30_group.size()})\n",
        "excess30_result['score'] = excess30_result['count'] * 2\n",
        "excess30_result.to_excel(\"gdrive/MyDrive/QC/Time_monitoring/excess30_result.xlsx\")\n",
        "\n",
        "excess15_group = excess15.groupby(['이름'])\n",
        "excess15_result = pd.DataFrame( {'count' : excess15_group.size()})\n",
        "excess15_result['score'] = excess15_result['count']\n",
        "excess15_result.to_excel(\"gdrive/MyDrive/QC/Time_monitoring/excess15_result.xlsx\")\n",
        "\n",
        "\n",
        "name_list = df_input['이름'].drop_duplicates().reset_index(drop = True)\n",
        "\n",
        "score_input = pd.merge(name_list, excess30_result, left_on='이름', right_on='이름', how='left')\n",
        "score_input = pd.merge(score_input, excess15_result, left_on='이름', right_on='이름', how='left')\n",
        "\n",
        "score_input.columns = ['이름','30일 초과 횟수','Score_30', '15일 초과 횟수', 'Score_15']\n",
        "score_input = score_input.fillna(0)\n",
        "score_input['Score_Total'] = score_input['Score_30'] + score_input['Score_15']\n",
        "# name_list\n",
        "score_input = score_input[score_input['Score_Total'] > 0].reset_index(drop = True)\n",
        "\n",
        "def scoring(s):\n",
        "    if int(s) > 20:\n",
        "        return 10\n",
        "    elif int(s) > 10 and int(s) <=20:\n",
        "        return 5\n",
        "    else:\n",
        "        return 0\n",
        "\n",
        "score_input['벌점'] = score_input['Score_Total'].map(scoring)\n",
        "score_input.to_excel(\"gdrive/MyDrive/QC/Time_monitoring/score_input.xlsx\")\n"
      ],
      "metadata": {
        "id": "8_DEJzGs3Yax"
      },
      "execution_count": 116,
      "outputs": []
    },
    {
      "cell_type": "markdown",
      "source": [
        "승인지연자 : 시간 입력일로부터 21일(14 + 7) 초과자  \n",
        "40점 초과 벌점 10점, 20점 초과 40점 이하 벌점 5점"
      ],
      "metadata": {
        "id": "8nUdXuP23oRY"
      }
    },
    {
      "cell_type": "code",
      "source": [
        "df_approve = df[df.구분 != \"승인요청\"]\n",
        "df_approved = df_approve.copy()\n",
        "df_approved[\"input_shift\"] = df_approved[\"입력일자/시/분/초\"].shift()\n",
        "df_approved[\"approve_diff\"] = df_approved[\"입력일자/시/분/초\"] - df_approved[\"input_shift\"]\n",
        "df_approved = df_approved[df_approved.구분 == \"승인\"]\n",
        "\n",
        "## 99포함하는 코드 제외(행정, 연수, 기타)\n",
        "df_approved = df_approved[~df_approved['프로젝트코드'].str.contains('99')] \n"
      ],
      "metadata": {
        "id": "iX6A_PDb3oCI"
      },
      "execution_count": 117,
      "outputs": []
    },
    {
      "cell_type": "code",
      "source": [
        "excess21 = df_approved[df_approved[\"approve_diff\"] > \"21 days\"]\n",
        "\n",
        "excess21.to_excel(\"gdrive/MyDrive/QC/Time_monitoring/excess21.xlsx\")\n",
        "\n",
        "excess21_group = excess21.groupby(['입력(승인)자'])\n",
        "excess21_result = pd.DataFrame( {'count' : excess21_group.size()})\n",
        "\n",
        "excess21_result.to_excel(\"gdrive/MyDrive/QC/Time_monitoring/excess21_result.xlsx\")\n",
        "\n",
        "score_approve = pd.merge(name_list, excess21_result, left_on='이름', right_on='입력(승인)자', how='left')\n",
        "score_approve = score_approve.dropna().reset_index(drop =True)\n",
        "\n",
        "def scoring_appr(s):\n",
        "    if int(s) > 40:\n",
        "        return 10\n",
        "    elif int(s) > 20 and int(s) <= 40:\n",
        "        return 5\n",
        "    else:\n",
        "        return 0\n",
        "\n",
        "score_approve['벌점'] = score_approve['count'].map(scoring_appr)\n",
        "score_approve.to_excel(\"gdrive/MyDrive/QC/Time_monitoring/score_approve.xlsx\")\n"
      ],
      "metadata": {
        "id": "uDUPmw_aVWTq"
      },
      "execution_count": 118,
      "outputs": []
    }
  ]
}